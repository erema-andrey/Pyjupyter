{
 "cells": [
  {
   "cell_type": "code",
   "execution_count": 1,
   "metadata": {},
   "outputs": [],
   "source": [
    "import numpy as np\n",
    "import pandas as pd"
   ]
  },
  {
   "cell_type": "code",
   "execution_count": 2,
   "metadata": {},
   "outputs": [],
   "source": [
    "import matplotlib.pyplot as plt\n",
    "import seaborn as sns"
   ]
  },
  {
   "cell_type": "code",
   "execution_count": null,
   "metadata": {},
   "outputs": [],
   "source": [
    "df = pd.readf = pd.read_csv('Churn_Modelling.csv')  #считать исходную таблицу\n",
    "df"
   ]
  },
  {
   "cell_type": "code",
   "execution_count": null,
   "metadata": {},
   "outputs": [],
   "source": [
    "bank = df[['age','job','marital','education','default','balance','housing','loan','contact','day','month','duration','campaign','pdays','convert']]  #создать таблицу с банковскими даннымиd_csv('Churn_Modelling.csv')  #считать исходную таблицу\n",
    "bank\n",
    "df.sample(n=10)"
   ]
  },
  {
   "cell_type": "code",
   "execution_count": null,
   "metadata": {},
   "outputs": [],
   "source": [
    "df = pd.read_csv('bank_10.csv', sep=';')\n",
    "df.sample(n=10)"
   ]
  },
  {
   "attachments": {},
   "cell_type": "markdown",
   "metadata": {},
   "source": [
    "Стандартный синтаксис создания графика"
   ]
  },
  {
   "cell_type": "code",
   "execution_count": null,
   "metadata": {},
   "outputs": [],
   "source": [
    "plt.figure(figsize=(8, 6))\n",
    "plt.plot([0, 1, 2, 3], [10, 9, 6, 1])\n",
    "plt.xlabel('x')\n",
    "plt.ylabel('y')\n",
    "plt.title('Example')\n",
    "plt.grid();"
   ]
  },
  {
   "attachments": {},
   "cell_type": "markdown",
   "metadata": {},
   "source": [
    "### Виды графиков"
   ]
  },
  {
   "attachments": {},
   "cell_type": "markdown",
   "metadata": {},
   "source": [
    "#### Линейный график"
   ]
  },
  {
   "cell_type": "code",
   "execution_count": null,
   "metadata": {},
   "outputs": [],
   "source": [
    "# Готовим данные для графика в виде сводной таблицы\n",
    "\n",
    "data = df.groupby('month')['job'].agg(count='count').reset_index().sort_values(by='month')\n",
    "data.head()"
   ]
  },
  {
   "attachments": {},
   "cell_type": "markdown",
   "metadata": {},
   "source": [
    "##### Matplotlib"
   ]
  },
  {
   "cell_type": "code",
   "execution_count": null,
   "metadata": {},
   "outputs": [],
   "source": [
    "plt.figure(figsize=(6, 4))\n",
    "\n",
    "plt.plot(data['month'], data['count'])\n",
    "\n",
    "plt.title('Динамика охвата рекламных кампаний')\n",
    "plt.xlabel('Месяц')\n",
    "plt.ylabel('Кол-во клиентов')"
   ]
  },
  {
   "attachments": {},
   "cell_type": "markdown",
   "metadata": {},
   "source": [
    "#### Seaborn"
   ]
  },
  {
   "cell_type": "code",
   "execution_count": null,
   "metadata": {},
   "outputs": [],
   "source": [
    "plt.figure(figsize=(6, 4))\n",
    "\n",
    "sns.lineplot(x=data['month'], y=data['count'])\n",
    "\n",
    "plt.title('Динамика охвата рекламных кампаний')\n",
    "plt.xlabel('Месяц')\n",
    "plt.ylabel('Кол-во клиентов')"
   ]
  },
  {
   "attachments": {},
   "cell_type": "markdown",
   "metadata": {},
   "source": [
    "### Гистограмма\n",
    "Matplotlib"
   ]
  },
  {
   "cell_type": "code",
   "execution_count": null,
   "metadata": {},
   "outputs": [],
   "source": [
    "plt.figure(figsize=(6, 4))\n",
    "\n",
    "plt.hist(df['age'], bins=15)\n",
    "\n",
    "plt.title('Возраст клиентов банка')\n",
    "plt.xlabel('Интервал, лет')\n",
    "plt.ylabel('Кол-во клиентов')"
   ]
  },
  {
   "attachments": {},
   "cell_type": "markdown",
   "metadata": {},
   "source": [
    "#### Seaborn"
   ]
  },
  {
   "cell_type": "code",
   "execution_count": null,
   "metadata": {},
   "outputs": [],
   "source": [
    "plt.figure(figsize=(6, 4))\n",
    "\n",
    "sns.histplot(df['age'], bins=15)\n",
    "\n",
    "plt.title('Возраст клиентов банка')\n",
    "plt.xlabel('Интервал, лет')\n",
    "plt.ylabel('Кол-во клиентов')"
   ]
  },
  {
   "attachments": {},
   "cell_type": "markdown",
   "metadata": {},
   "source": [
    "#### Диаграмма рассеяния"
   ]
  },
  {
   "cell_type": "code",
   "execution_count": null,
   "metadata": {},
   "outputs": [],
   "source": [
    "# Готовим данные для графика в виде сводной таблицы\n",
    "data = df.groupby('age')['convert'].sum().reset_index()\n",
    "data.head()"
   ]
  },
  {
   "attachments": {},
   "cell_type": "markdown",
   "metadata": {},
   "source": [
    "##### Matplotlib"
   ]
  },
  {
   "cell_type": "code",
   "execution_count": null,
   "metadata": {},
   "outputs": [],
   "source": [
    "plt.figure(figsize=(6, 4))\n",
    "\n",
    "plt.scatter(data['age'], data['convert'])\n",
    "\n",
    "plt.title('График разброса значений')\n",
    "plt.xlabel('Возраст')\n",
    "plt.ylabel('Покупки')"
   ]
  },
  {
   "attachments": {},
   "cell_type": "markdown",
   "metadata": {},
   "source": [
    "#### Seaborn"
   ]
  },
  {
   "cell_type": "code",
   "execution_count": null,
   "metadata": {},
   "outputs": [],
   "source": [
    "plt.figure(figsize=(6, 4))\n",
    "\n",
    "sns.scatterplot(x=data['age'], y=data['convert'])\n",
    "\n",
    "plt.title('График разброса значений')\n",
    "plt.xlabel('Возраст')\n",
    "plt.ylabel('Покупки')"
   ]
  },
  {
   "attachments": {},
   "cell_type": "markdown",
   "metadata": {},
   "source": [
    "#### Столбчатые диаграммы"
   ]
  },
  {
   "cell_type": "code",
   "execution_count": null,
   "metadata": {},
   "outputs": [],
   "source": [
    "# Готовим данные для графика\n",
    "data = df['job'].value_counts().reset_index()\n",
    "data.head()"
   ]
  },
  {
   "attachments": {},
   "cell_type": "markdown",
   "metadata": {},
   "source": [
    "#### Matplotlib"
   ]
  },
  {
   "cell_type": "code",
   "execution_count": null,
   "metadata": {},
   "outputs": [],
   "source": [
    "plt.figure(figsize=(6, 4))\n",
    "\n",
    "plt.bar(data['index'], data['job'])\n",
    "\n",
    "plt.title('Род занятий клиентов банка')\n",
    "plt.xlabel('Род занятий')\n",
    "plt.ylabel('Кол-во')\n",
    "plt.xticks(rotation=30)"
   ]
  },
  {
   "attachments": {},
   "cell_type": "markdown",
   "metadata": {},
   "source": [
    "##### Seaborn"
   ]
  },
  {
   "cell_type": "code",
   "execution_count": null,
   "metadata": {},
   "outputs": [],
   "source": [
    "plt.figure(figsize=(6, 4))\n",
    "\n",
    "sns.barplot(x=data['index'], y=data['job'])\n",
    "\n",
    "plt.title('Род занятий клиентов банка')\n",
    "plt.xlabel('Род занятий')\n",
    "plt.ylabel('Кол-во')\n",
    "plt.xticks(rotation=30)"
   ]
  },
  {
   "attachments": {},
   "cell_type": "markdown",
   "metadata": {},
   "source": [
    "#### Многорядовые столбчатые диаграммы"
   ]
  },
  {
   "cell_type": "code",
   "execution_count": null,
   "metadata": {},
   "outputs": [],
   "source": [
    "# Готовим данные для графика\n",
    "data = pd.crosstab(df['job'], df['convert']).reset_index().sort_values(by=0, ascending=False)\n",
    "data.rename(columns={0: 'no', 1: 'yes'}, inplace=True)\n",
    "data.head()"
   ]
  },
  {
   "cell_type": "code",
   "execution_count": null,
   "metadata": {},
   "outputs": [],
   "source": [
    "# Строим столбчатую многорядную диаграмму\n",
    "\n",
    "plt.figure(figsize=(8, 6))\n",
    "\n",
    "# определяем кол-во делений\n",
    "n_ticks = np.arange(len(data['no']))\n",
    "\n",
    "# определяем сдвиг\n",
    "offset = 0.2\n",
    "\n",
    "# определяем ширину столбцов\n",
    "w = 0.4\n",
    "\n",
    "# добавляем сдвиг к кол-ву делений\n",
    "plt.bar(n_ticks - offset, data['no'], width=w)\n",
    "plt.bar(n_ticks + offset, data['yes'], width=w)\n",
    "\n",
    "plt.title('Род занятий клиентов банка, открывших депозит')\n",
    "plt.xlabel('Род занятий')\n",
    "plt.ylabel('Кол-во')\n",
    "plt.legend(['no', 'yes'])\n",
    "plt.xticks(n_ticks, data['job'], rotation = 30);  # добавляем метки делений"
   ]
  },
  {
   "attachments": {},
   "cell_type": "markdown",
   "metadata": {},
   "source": [
    "#### Сложенная столбчатая диаграмма"
   ]
  },
  {
   "cell_type": "code",
   "execution_count": null,
   "metadata": {},
   "outputs": [],
   "source": [
    "# Готовим данные для графика\n",
    "data = pd.crosstab(df['job'], df['convert'], normalize='index').reset_index().sort_values(by=0, ascending=False)\n",
    "data.rename(columns={0: 'no', 1: 'yes'}, inplace=True)\n",
    "data.head()"
   ]
  },
  {
   "cell_type": "code",
   "execution_count": null,
   "metadata": {},
   "outputs": [],
   "source": [
    "# Строим столбчатую многорядную сложенную диаграмму\n",
    "\n",
    "plt.figure(figsize=(8, 6))\n",
    "\n",
    "plt.bar(data['job'], data['no'])\n",
    "plt.bar(data['job'], data['yes'], bottom=data['no'])\n",
    "\n",
    "plt.title('Род занятий клиентов банка, открывших депозит')\n",
    "plt.xlabel('Род занятий')\n",
    "plt.ylabel('Доля клиентов')\n",
    "plt.legend(['no', 'yes'])\n",
    "plt.xticks(rotation = 30)"
   ]
  },
  {
   "attachments": {},
   "cell_type": "markdown",
   "metadata": {},
   "source": [
    "#### Ящики с усами"
   ]
  },
  {
   "cell_type": "code",
   "execution_count": null,
   "metadata": {},
   "outputs": [],
   "source": [
    "# Готовим данные для графика\n",
    "data1 = df['duration'][df['convert'] == 1]\n",
    "data2 = df['duration'][df['convert'] == 0]\n",
    "data1.head()"
   ]
  },
  {
   "cell_type": "code",
   "execution_count": null,
   "metadata": {},
   "outputs": [],
   "source": [
    "plt.figure(figsize=(6, 4))\n",
    "\n",
    "sns.boxplot(data=[data1])"
   ]
  },
  {
   "cell_type": "code",
   "execution_count": null,
   "metadata": {},
   "outputs": [],
   "source": [
    "sns.histplot(x=data1)"
   ]
  },
  {
   "attachments": {},
   "cell_type": "markdown",
   "metadata": {},
   "source": [
    "#### Matplotlib"
   ]
  },
  {
   "cell_type": "code",
   "execution_count": null,
   "metadata": {},
   "outputs": [],
   "source": [
    "# Строим боксплот\n",
    "\n",
    "plt.figure(figsize=(6, 4))\n",
    "\n",
    "plt.boxplot([data1, data2])\n",
    "\n",
    "plt.title('Время последнего контакта')\n",
    "plt.xlabel('Совершили покупку')\n",
    "plt.ylabel('Время в секундах')\n",
    "plt.xticks([1, 2], ['yes', 'no'])"
   ]
  },
  {
   "cell_type": "code",
   "execution_count": null,
   "metadata": {},
   "outputs": [],
   "source": [
    "# Строим боксплот без выбросов \n",
    "\n",
    "plt.figure(figsize=(6, 4))\n",
    "\n",
    "plt.boxplot([data1, data2], showfliers=False)\n",
    "\n",
    "plt.title('Время последнего контакта')\n",
    "plt.xlabel('Совершили покупку')\n",
    "\n",
    "plt.ylabel('Время в секундах')\n",
    "plt.xticks([1, 2], ['yes', 'no'])"
   ]
  },
  {
   "attachments": {},
   "cell_type": "markdown",
   "metadata": {},
   "source": [
    "##### Seaborn"
   ]
  },
  {
   "cell_type": "code",
   "execution_count": null,
   "metadata": {},
   "outputs": [],
   "source": [
    "# Строим боксплот без выбросов \n",
    "\n",
    "plt.figure(figsize=(6, 4))\n",
    "\n",
    "sns.boxplot(data=[data1, data2], showfliers=False)\n",
    "\n",
    "plt.title('Время последнего контакта')\n",
    "plt.xlabel('Совершили покупку')\n",
    "\n",
    "plt.ylabel('Время в секундах')\n",
    "plt.xticks([0, 1], ['yes', 'no'])"
   ]
  },
  {
   "attachments": {},
   "cell_type": "markdown",
   "metadata": {},
   "source": [
    "#### Круговая диаграмма"
   ]
  },
  {
   "cell_type": "code",
   "execution_count": null,
   "metadata": {},
   "outputs": [],
   "source": [
    "# Готовим данные для графика\n",
    "data = df['convert'].value_counts()\n",
    "data.index = ['no', 'yes']\n",
    "data.head()"
   ]
  },
  {
   "attachments": {},
   "cell_type": "markdown",
   "metadata": {},
   "source": [
    "##### Matplotlib"
   ]
  },
  {
   "cell_type": "code",
   "execution_count": null,
   "metadata": {},
   "outputs": [],
   "source": [
    "# Строим круговую диаграмму\n",
    "\n",
    "plt.figure(figsize=(6, 4))\n",
    "\n",
    "plt.pie(data, autopct='%1.1f%%')\n",
    "\n",
    "plt.title('Доля клиентов банка, открывших депозит')\n",
    "plt.legend(data.index);"
   ]
  },
  {
   "attachments": {},
   "cell_type": "markdown",
   "metadata": {},
   "source": [
    "### Визуальный анализ данных\n",
    "#### Описание датасета\n",
    "\n",
    "##### Статистические данные о ряде домов в Калифорнии, основанные на переписи 1990 года.\n",
    "\n",
    "- longitude - долгота\n",
    "- latitude - широта\n",
    "- housing_median_age - средний возраст дома\n",
    "- total_rooms - общее количество комнат\n",
    "- total_bedrooms - общее количество спален\n",
    "- population - количество проживающих\n",
    "- households - домохозяйства\n",
    "- ocean_proximity - близость океана\n",
    "- median_income - средний доход\n",
    "- median_house_value - средняя стоимость дома"
   ]
  },
  {
   "cell_type": "code",
   "execution_count": null,
   "metadata": {},
   "outputs": [],
   "source": [
    "df = pd.read_csv('',encoding='latin1')\n",
    "df.head()"
   ]
  },
  {
   "attachments": {},
   "cell_type": "markdown",
   "metadata": {},
   "source": [
    "#### Распределение вещественных признаков"
   ]
  },
  {
   "cell_type": "code",
   "execution_count": null,
   "metadata": {},
   "outputs": [],
   "source": [
    "# {'red', 'green', 'blue'} - дискретный признак ('red', 'green', 'blue', 'red', 'green', 'red')\n",
    "# [0, 100] - вещественный признак (0, 5, 5.6, 10.5, 10.57)"
   ]
  },
  {
   "cell_type": "code",
   "execution_count": null,
   "metadata": {},
   "outputs": [],
   "source": [
    "plt.figure(figsize=(8, 6))\n",
    "plt.hist(df['median_house_value'])\n",
    "plt.title('Распределение median house value')\n",
    "plt.xlabel('Стоимость')\n",
    "plt.ylabel('Количество')"
   ]
  },
  {
   "cell_type": "code",
   "execution_count": null,
   "metadata": {},
   "outputs": [],
   "source": [
    "df_num_features = df.select_dtypes(include=['float64', 'float32', 'float16'])\n",
    "df_num_features.drop('median_house_value', axis=1, inplace=True)"
   ]
  },
  {
   "cell_type": "code",
   "execution_count": null,
   "metadata": {},
   "outputs": [],
   "source": [
    "df_num_features.hist(figsize=(16, 16), bins=20, grid=False)"
   ]
  },
  {
   "attachments": {},
   "cell_type": "markdown",
   "metadata": {},
   "source": [
    "#### Поиск выбросов с помощью box plot\n",
    "\n",
    "##### Как строится box plot\n",
    "\n",
    "#### Подробное объяснение\n",
    "\n",
    "- box - от 25% до 75% квантиля\n",
    "- линия в середине box - медиана\n",
    "- \"усы\"\n",
    "#### Как строятся \"усы\" - вариантов масса\n",
    "\n",
    "- среднее +/- 3 сигма (стандартное отклонение)\n",
    "- min / max\n",
    "- median +/- 1.5*(q75 - q25),\n",
    "\n",
    "##### *Интерквартильный размах = q75 - q25"
   ]
  },
  {
   "cell_type": "code",
   "execution_count": null,
   "metadata": {},
   "outputs": [],
   "source": [
    "plt.figure(figsize=(6, 3))\n",
    "\n",
    "sns.boxplot(x=df['population'], whis=1.5)\n",
    "\n",
    "plt.xlabel('population')\n",
    "plt.show()"
   ]
  },
  {
   "attachments": {},
   "cell_type": "markdown",
   "metadata": {},
   "source": [
    "#### Анализ категориальных признаков"
   ]
  },
  {
   "cell_type": "code",
   "execution_count": null,
   "metadata": {},
   "outputs": [],
   "source": [
    "counts = df['ocean_proximity'].value_counts()\n",
    "    \n",
    "plt.figure(figsize=(8, 6))    \n",
    "plt.title('ocean_proximity')\n",
    "sns.barplot(x=counts.index, y=counts.values)\n",
    "    \n",
    "plt.show()"
   ]
  },
  {
   "cell_type": "code",
   "execution_count": null,
   "metadata": {},
   "outputs": [],
   "source": [
    "counts = df['INLAND'].value_counts()\n",
    "    \n",
    "plt.figure(figsize=(8, 6))    \n",
    "plt.title('INLAND')\n",
    "sns.barplot(x=counts.index, y=counts.values)\n",
    "    \n",
    "plt.show()"
   ]
  },
  {
   "attachments": {},
   "cell_type": "markdown",
   "metadata": {},
   "source": [
    "#### Анализ взаимных распределений"
   ]
  },
  {
   "cell_type": "code",
   "execution_count": null,
   "metadata": {},
   "outputs": [],
   "source": [
    "sns.jointplot(x=df['median_income'], y=df['median_house_value'], kind='reg')"
   ]
  },
  {
   "cell_type": "code",
   "execution_count": null,
   "metadata": {},
   "outputs": [],
   "source": [
    "sns.jointplot(x=df['latitude'], y=df['longitude'], kind='kde')"
   ]
  },
  {
   "cell_type": "code",
   "execution_count": null,
   "metadata": {},
   "outputs": [],
   "source": [
    "sns.jointplot(x=df['latitude'], y=df['median_house_value'], kind='reg')"
   ]
  },
  {
   "attachments": {},
   "cell_type": "markdown",
   "metadata": {},
   "source": [
    "#### Видно два города, имеет смысл посмотреть на зависимость по отдельности"
   ]
  },
  {
   "cell_type": "code",
   "execution_count": null,
   "metadata": {},
   "outputs": [],
   "source": [
    "df_cut = df[df['latitude'] < 36]\n",
    "sns.jointplot(x=df_cut['latitude'], y=df_cut['median_house_value'], kind='reg')"
   ]
  },
  {
   "cell_type": "code",
   "execution_count": null,
   "metadata": {},
   "outputs": [],
   "source": [
    "df_cut = df[df['latitude'] >= 36]\n",
    "sns.jointplot(x=df_cut['latitude'], y=df_cut['median_house_value'], kind='reg')"
   ]
  },
  {
   "attachments": {},
   "cell_type": "markdown",
   "metadata": {},
   "source": [
    "#### longitude"
   ]
  },
  {
   "cell_type": "code",
   "execution_count": null,
   "metadata": {},
   "outputs": [],
   "source": [
    "sns.jointplot(x=df['longitude'], y=df['median_house_value'], kind='reg')"
   ]
  },
  {
   "cell_type": "code",
   "execution_count": null,
   "metadata": {},
   "outputs": [],
   "source": [
    "df_cut = df[df['longitude'] < -120]\n",
    "sns.jointplot(x=df_cut['longitude'], y=df_cut['median_house_value'], kind='reg');"
   ]
  },
  {
   "cell_type": "code",
   "execution_count": null,
   "metadata": {},
   "outputs": [],
   "source": [
    "df_cut = df[df['longitude'] >= -120]\n",
    "sns.jointplot(x=df_cut['longitude'], y=df_cut['median_house_value'], kind='reg')"
   ]
  },
  {
   "attachments": {},
   "cell_type": "markdown",
   "metadata": {},
   "source": [
    "#### Категориальные / бинарные признаки\n",
    "#### box plot"
   ]
  },
  {
   "cell_type": "code",
   "execution_count": null,
   "metadata": {},
   "outputs": [],
   "source": [
    "plt.figure(figsize=(16, 8))\n",
    "\n",
    "sns.boxplot(x=df['median_house_value'], y=df['ocean_proximity'], whis=1.5)\n",
    "\n",
    "plt.xlabel('median_house_value')\n",
    "plt.ylabel('ocean_proximity')\n",
    "plt.title('Distribution of median_house_value by ocean_proximity');"
   ]
  },
  {
   "attachments": {},
   "cell_type": "markdown",
   "metadata": {},
   "source": [
    "### Как строится box plot\n",
    "\n",
    "#### Подробное объяснение\n",
    "\n",
    "-box - от 25% до 75% квантиля\n",
    "- линия в середине box - медиана\n",
    "- \"усы\"\n",
    "#### Как строятся \"усы\" - вариантов масса\n",
    "\n",
    "- среднее +/- 3 сигма (стандартное отклонение)\n",
    "- min / max\n",
    "- median +/- 1.5*(q75 - q25),\n",
    "\n",
    "#### *Интерквартильный размах = q75 - q25"
   ]
  },
  {
   "attachments": {},
   "cell_type": "markdown",
   "metadata": {},
   "source": [
    "#### Матрица корреляций\n",
    "- Показывает линейную связь между переменными\n",
    "- Изменяется от -1 до 1\n",
    "- Корреляция - мера только линейной связи"
   ]
  },
  {
   "cell_type": "code",
   "execution_count": null,
   "metadata": {},
   "outputs": [],
   "source": [
    "sns.jointplot(x=df['total_rooms'], y=df['total_bedrooms'], kind='reg')"
   ]
  },
  {
   "cell_type": "code",
   "execution_count": null,
   "metadata": {},
   "outputs": [],
   "source": [
    "sns.jointplot(x=df['longitude'], y=df['latitude'], kind='reg')"
   ]
  },
  {
   "cell_type": "code",
   "execution_count": null,
   "metadata": {},
   "outputs": [],
   "source": [
    "corr_matrix = df.corr()\n",
    "corr_matrix = np.round(corr_matrix, 1)\n",
    "corr_matrix[np.abs(corr_matrix) < 0.3] = 0\n",
    "corr_matrix"
   ]
  },
  {
   "cell_type": "code",
   "execution_count": null,
   "metadata": {},
   "outputs": [],
   "source": [
    "plt.figure(figsize=(10, 8))\n",
    "\n",
    "sns.set(font_scale=1.4)\n",
    "\n",
    "sns.heatmap(corr_matrix, annot=True, linewidths=.5, cmap='coolwarm')\n",
    "\n",
    "plt.title('Correlation matrix');"
   ]
  },
  {
   "attachments": {},
   "cell_type": "markdown",
   "metadata": {},
   "source": [
    "### Гео данные"
   ]
  },
  {
   "cell_type": "code",
   "execution_count": null,
   "metadata": {},
   "outputs": [],
   "source": [
    "min_long = -124.55\n",
    "max_long = -113.80\n",
    "\n",
    "min_lat = 32.45\n",
    "max_lat = 42.05"
   ]
  },
  {
   "cell_type": "code",
   "execution_count": null,
   "metadata": {},
   "outputs": [],
   "source": [
    "import matplotlib.image as img\n",
    "california_map = img.imread('California_Map.png')\n",
    "\n",
    "plt.figure(figsize=(12, 9))\n",
    "plt.imshow(california_map,\n",
    "           extent=[min_long, max_long, min_lat, max_lat], alpha=0.5)"
   ]
  },
  {
   "cell_type": "code",
   "execution_count": null,
   "metadata": {},
   "outputs": [],
   "source": [
    "plt.figure(figsize=(12, 9))\n",
    "\n",
    "sc = plt.scatter(df['longitude'], df['latitude'], alpha=0.5, c=df['median_house_value'])\n",
    "\n",
    "plt.imshow(california_map,\n",
    "           extent=[min_long, max_long, min_lat, max_lat], alpha=0.5)\n",
    "\n",
    "plt.colorbar(sc)\n",
    "plt.xlabel(\"Longitude\")\n",
    "plt.ylabel(\"Latitude\")\n",
    "plt.title(\"Homes geography\");"
   ]
  },
  {
   "attachments": {},
   "cell_type": "markdown",
   "metadata": {},
   "source": [
    "#### Folium"
   ]
  },
  {
   "cell_type": "code",
   "execution_count": null,
   "metadata": {},
   "outputs": [],
   "source": [
    "# !pip install folium"
   ]
  },
  {
   "cell_type": "code",
   "execution_count": null,
   "metadata": {},
   "outputs": [],
   "source": [
    "import folium\n",
    "this_map = folium.Map(prefer_canvas=True)\n",
    "\n",
    "def plotDot(point):\n",
    "    folium.CircleMarker(\n",
    "        location=[point.latitude, point.longitude],\n",
    "        radius=2,\n",
    "        popup=point.median_house_value\n",
    "    ).add_to(this_map)\n",
    "    \n",
    "df.apply(plotDot, axis=1)\n",
    "\n",
    "this_map.fit_bounds(this_map.get_bounds())\n",
    "\n",
    "this_map"
   ]
  },
  {
   "attachments": {},
   "cell_type": "markdown",
   "metadata": {},
   "source": [
    "### Kepler**"
   ]
  },
  {
   "cell_type": "code",
   "execution_count": null,
   "metadata": {},
   "outputs": [],
   "source": [
    "# !conda install -c conda-forge keplergl"
   ]
  },
  {
   "cell_type": "code",
   "execution_count": null,
   "metadata": {},
   "outputs": [],
   "source": [
    "# !pip install keplergl==0.1.1"
   ]
  },
  {
   "cell_type": "code",
   "execution_count": null,
   "metadata": {},
   "outputs": [],
   "source": [
    "from keplergl import KeplerGl \n",
    "\n",
    "map_ = KeplerGl(height=700)\n",
    "map_.add_data(df, 'Data')\n",
    "map_.save_to_html(file_name='./california.html')"
   ]
  },
  {
   "attachments": {},
   "cell_type": "markdown",
   "metadata": {},
   "source": [
    "- User Guide: https://docs.kepler.gl/docs/keplergl-jupyter\n",
    "- Map saved to ./california.html!"
   ]
  },
  {
   "attachments": {},
   "cell_type": "markdown",
   "metadata": {},
   "source": [
    "#### Summary\n",
    "1. Матрица корреляции\n",
    "2. Знакомство с признаками\n",
    "- Плотность распределения (sns.distplot/sns.kdeplot/plt.hist - Узнать распределение признака)\n",
    "- sns.violinplot - Узнать распределение признака\n",
    "- Столбчатая диаграмма (sns.barplot/plt.bar - Узнать распределение категориального признака)\n",
    "- Ящик с усами (sns.boxplot/plt.boxplot - Узнать диапазон значений)\n",
    "- sns.jointplot - Взаимное изменение признаков\n",
    "- plt.pie - Изобразить долю объектов от всего кол-ва\n",
    "3. Поиск выбросов\n",
    "- sns.distplot/sns.kdeplot/plt.hist - Искать хвосты слева и справа\n",
    "- sns.boxplot - Всё, что выходит за пределы усов - выбросы\n",
    "#### Seaborn - https://seaborn.pydata.org/examples/index.html\n",
    "#### Matplotlib - https://matplotlib.org/3.1.0/gallery/index.html"
   ]
  },
  {
   "attachments": {},
   "cell_type": "markdown",
   "metadata": {},
   "source": [
    "### Seminar"
   ]
  },
  {
   "cell_type": "code",
   "execution_count": 4,
   "metadata": {},
   "outputs": [
    {
     "data": {
      "text/html": [
       "<div>\n",
       "<style scoped>\n",
       "    .dataframe tbody tr th:only-of-type {\n",
       "        vertical-align: middle;\n",
       "    }\n",
       "\n",
       "    .dataframe tbody tr th {\n",
       "        vertical-align: top;\n",
       "    }\n",
       "\n",
       "    .dataframe thead th {\n",
       "        text-align: right;\n",
       "    }\n",
       "</style>\n",
       "<table border=\"1\" class=\"dataframe\">\n",
       "  <thead>\n",
       "    <tr style=\"text-align: right;\">\n",
       "      <th></th>\n",
       "      <th>Company</th>\n",
       "      <th>Product</th>\n",
       "      <th>TypeName</th>\n",
       "      <th>Inches</th>\n",
       "      <th>Cpu</th>\n",
       "      <th>Ram</th>\n",
       "      <th>Gpu</th>\n",
       "      <th>OpSys</th>\n",
       "      <th>Weight</th>\n",
       "      <th>Price_euros</th>\n",
       "      <th>Cpu_Company</th>\n",
       "      <th>Memory_Amount</th>\n",
       "      <th>Memory_Type</th>\n",
       "    </tr>\n",
       "  </thead>\n",
       "  <tbody>\n",
       "    <tr>\n",
       "      <th>0</th>\n",
       "      <td>Apple</td>\n",
       "      <td>MacBook Pro</td>\n",
       "      <td>Ultrabook</td>\n",
       "      <td>13.3</td>\n",
       "      <td>Intel Core i5 2.3GHz</td>\n",
       "      <td>8GB</td>\n",
       "      <td>Intel Iris Plus Graphics 640</td>\n",
       "      <td>macOS</td>\n",
       "      <td>1.37</td>\n",
       "      <td>1339.69</td>\n",
       "      <td>Intel</td>\n",
       "      <td>128</td>\n",
       "      <td>SSD</td>\n",
       "    </tr>\n",
       "    <tr>\n",
       "      <th>1</th>\n",
       "      <td>Apple</td>\n",
       "      <td>Macbook Air</td>\n",
       "      <td>Ultrabook</td>\n",
       "      <td>13.3</td>\n",
       "      <td>Intel Core i5 1.8GHz</td>\n",
       "      <td>8GB</td>\n",
       "      <td>Intel HD Graphics 6000</td>\n",
       "      <td>macOS</td>\n",
       "      <td>1.34</td>\n",
       "      <td>898.94</td>\n",
       "      <td>Intel</td>\n",
       "      <td>128</td>\n",
       "      <td>FlashStorage</td>\n",
       "    </tr>\n",
       "    <tr>\n",
       "      <th>2</th>\n",
       "      <td>HP</td>\n",
       "      <td>250 G6</td>\n",
       "      <td>Notebook</td>\n",
       "      <td>15.6</td>\n",
       "      <td>Intel Core i5 7200U 2.5GHz</td>\n",
       "      <td>8GB</td>\n",
       "      <td>Intel HD Graphics 620</td>\n",
       "      <td>No OS</td>\n",
       "      <td>1.86</td>\n",
       "      <td>575.00</td>\n",
       "      <td>Intel</td>\n",
       "      <td>256</td>\n",
       "      <td>SSD</td>\n",
       "    </tr>\n",
       "    <tr>\n",
       "      <th>3</th>\n",
       "      <td>Apple</td>\n",
       "      <td>MacBook Pro</td>\n",
       "      <td>Ultrabook</td>\n",
       "      <td>15.4</td>\n",
       "      <td>Intel Core i7 2.7GHz</td>\n",
       "      <td>16GB</td>\n",
       "      <td>AMD Radeon Pro 455</td>\n",
       "      <td>macOS</td>\n",
       "      <td>1.83</td>\n",
       "      <td>2537.45</td>\n",
       "      <td>Intel</td>\n",
       "      <td>512</td>\n",
       "      <td>SSD</td>\n",
       "    </tr>\n",
       "    <tr>\n",
       "      <th>4</th>\n",
       "      <td>Apple</td>\n",
       "      <td>MacBook Pro</td>\n",
       "      <td>Ultrabook</td>\n",
       "      <td>13.3</td>\n",
       "      <td>Intel Core i5 3.1GHz</td>\n",
       "      <td>8GB</td>\n",
       "      <td>Intel Iris Plus Graphics 650</td>\n",
       "      <td>macOS</td>\n",
       "      <td>1.37</td>\n",
       "      <td>1803.60</td>\n",
       "      <td>Intel</td>\n",
       "      <td>256</td>\n",
       "      <td>SSD</td>\n",
       "    </tr>\n",
       "  </tbody>\n",
       "</table>\n",
       "</div>"
      ],
      "text/plain": [
       "  Company      Product   TypeName  Inches                         Cpu   Ram   \n",
       "0   Apple  MacBook Pro  Ultrabook    13.3        Intel Core i5 2.3GHz   8GB  \\\n",
       "1   Apple  Macbook Air  Ultrabook    13.3        Intel Core i5 1.8GHz   8GB   \n",
       "2      HP       250 G6   Notebook    15.6  Intel Core i5 7200U 2.5GHz   8GB   \n",
       "3   Apple  MacBook Pro  Ultrabook    15.4        Intel Core i7 2.7GHz  16GB   \n",
       "4   Apple  MacBook Pro  Ultrabook    13.3        Intel Core i5 3.1GHz   8GB   \n",
       "\n",
       "                            Gpu  OpSys  Weight  Price_euros Cpu_Company   \n",
       "0  Intel Iris Plus Graphics 640  macOS    1.37      1339.69       Intel  \\\n",
       "1        Intel HD Graphics 6000  macOS    1.34       898.94       Intel   \n",
       "2         Intel HD Graphics 620  No OS    1.86       575.00       Intel   \n",
       "3            AMD Radeon Pro 455  macOS    1.83      2537.45       Intel   \n",
       "4  Intel Iris Plus Graphics 650  macOS    1.37      1803.60       Intel   \n",
       "\n",
       "   Memory_Amount   Memory_Type  \n",
       "0            128           SSD  \n",
       "1            128  FlashStorage  \n",
       "2            256           SSD  \n",
       "3            512           SSD  \n",
       "4            256           SSD  "
      ]
     },
     "execution_count": 4,
     "metadata": {},
     "output_type": "execute_result"
    }
   ],
   "source": [
    "df = pd.read_csv('./laptops_10.csv',encoding='latin1')\n",
    "df.head()"
   ]
  },
  {
   "attachments": {},
   "cell_type": "markdown",
   "metadata": {},
   "source": [
    "1.1 Изучите количество памяти с помощью matplotlib\n",
    "Постройте график\n",
    "Назовите график\n",
    "Сделайте именование оси x и оси y\n",
    "Сделайте выводы\n"
   ]
  },
  {
   "cell_type": "code",
   "execution_count": 5,
   "metadata": {},
   "outputs": [
    {
     "data": {
      "image/png": "[encoded data removed]",
      "text/plain": [
       "<Figure size 640x480 with 1 Axes>"
      ]
     },
     "metadata": {},
     "output_type": "display_data"
    }
   ],
   "source": [
    "import matplotlib.pyplot as plt\n",
    "\n",
    "plt.hist(df['Memory_Amount'])\n",
    "plt.title('Распределение памяти')\n",
    "plt.xlabel('GB')\n",
    "plt.ylabel('Количество');\n"
   ]
  },
  {
   "attachments": {},
   "cell_type": "markdown",
   "metadata": {},
   "source": [
    "1.2 Изучите стоимость ноутбуков с помощью matplotlib\n",
    "Постройте график\n",
    "Назовите график\n",
    "Сделайте именование оси x и оси y\n",
    "Сделайте выводы\n"
   ]
  },
  {
   "cell_type": "code",
   "execution_count": 6,
   "metadata": {},
   "outputs": [
    {
     "data": {
      "image/png": "[encoded data removed]",
      "text/plain": [
       "<Figure size 640x480 with 1 Axes>"
      ]
     },
     "metadata": {},
     "output_type": "display_data"
    }
   ],
   "source": [
    "plt.hist(df['Price_euros'], edgecolor='black', color='#AA0000')\n",
    "plt.title('Распределение стоимости')\n",
    "plt.xlabel('euro')\n",
    "plt.ylabel('Количество');\n"
   ]
  },
  {
   "attachments": {},
   "cell_type": "markdown",
   "metadata": {},
   "source": [
    "1.3 Изучите вес ноутбуков с помощью matplotlib\n",
    "Постройте график\n",
    "Назовите график\n",
    "Сделайте именование оси x и оси y\n",
    "Сделайте выводы\n"
   ]
  },
  {
   "cell_type": "code",
   "execution_count": 7,
   "metadata": {},
   "outputs": [
    {
     "data": {
      "image/png": "[encoded data removed]",
      "text/plain": [
       "<Figure size 640x480 with 1 Axes>"
      ]
     },
     "metadata": {},
     "output_type": "display_data"
    }
   ],
   "source": [
    "plt.hist(df['Weight'], edgecolor='black', color='#AA0000')\n",
    "plt.title('Распределение веса')\n",
    "plt.xlabel('кг')\n",
    "plt.ylabel('Количество');\n"
   ]
  },
  {
   "attachments": {},
   "cell_type": "markdown",
   "metadata": {},
   "source": [
    "2.1 Изучите распределение типов носителя\n",
    "Постройте график\n",
    "Сделайте выводы\n"
   ]
  },
  {
   "cell_type": "code",
   "execution_count": 8,
   "metadata": {},
   "outputs": [
    {
     "data": {
      "image/png": "[encoded data removed]",
      "text/plain": [
       "<Figure size 640x480 with 1 Axes>"
      ]
     },
     "metadata": {},
     "output_type": "display_data"
    }
   ],
   "source": [
    "x = df['Memory_Type'].value_counts()\n",
    "x\n",
    "name = x.index\n",
    "values = x.values\n",
    "plt.pie(values, labels=name, autopct='%.1f%%');\n"
   ]
  },
  {
   "attachments": {},
   "cell_type": "markdown",
   "metadata": {},
   "source": [
    "2.2 Изучите распределение компаний производителей\n",
    "Постройте график\n",
    "Сделайте выводы\n"
   ]
  },
  {
   "cell_type": "code",
   "execution_count": 9,
   "metadata": {},
   "outputs": [
    {
     "data": {
      "image/png": "[encoded data removed]",
      "text/plain": [
       "<Figure size 800x600 with 1 Axes>"
      ]
     },
     "metadata": {},
     "output_type": "display_data"
    }
   ],
   "source": [
    "x = df['Company'].value_counts()\n",
    "x\n",
    "name = x.index\n",
    "values = x.values\n",
    "plt.figure(figsize=(8, 6))\n",
    "plt.bar(name, values)\n",
    "plt.xticks(rotation=90);\n"
   ]
  },
  {
   "attachments": {},
   "cell_type": "markdown",
   "metadata": {},
   "source": [
    "2.3 Изучите распределение операционной системы\n",
    "Постройте график\n",
    "Сделайте выводы\n"
   ]
  },
  {
   "cell_type": "code",
   "execution_count": 10,
   "metadata": {},
   "outputs": [
    {
     "data": {
      "image/png": "[encoded data removed]",
      "text/plain": [
       "<Figure size 500x400 with 1 Axes>"
      ]
     },
     "metadata": {},
     "output_type": "display_data"
    }
   ],
   "source": [
    "x = df['OpSys'].value_counts()\n",
    "x\n",
    "name = x.index\n",
    "values = x.values\n",
    "plt.figure(figsize=(5, 4))\n",
    "plt.bar(name, values)\n",
    "plt.xticks(rotation=90);\n"
   ]
  },
  {
   "attachments": {},
   "cell_type": "markdown",
   "metadata": {},
   "source": [
    "2.4 Изучите распределение компаний производителей CPU\n",
    "Постройте график\n",
    "Сделайте выводы\n"
   ]
  },
  {
   "cell_type": "code",
   "execution_count": 11,
   "metadata": {},
   "outputs": [
    {
     "data": {
      "image/png": "[encoded data removed]",
      "text/plain": [
       "<Figure size 640x480 with 1 Axes>"
      ]
     },
     "metadata": {},
     "output_type": "display_data"
    }
   ],
   "source": [
    "x = df['Cpu_Company'].value_counts()\n",
    "x\n",
    "name = x.index\n",
    "values = x.values\n",
    "fig, ax = plt.subplots()\n",
    "ax.pie(values, labels=name, wedgeprops=dict(width=0.5), autopct='%.1f%%');\n"
   ]
  },
  {
   "attachments": {},
   "cell_type": "markdown",
   "metadata": {},
   "source": [
    "3.1 Постройте график в абсолютных величинах¶\n"
   ]
  },
  {
   "cell_type": "code",
   "execution_count": 12,
   "metadata": {},
   "outputs": [
    {
     "data": {
      "text/html": [
       "<div>\n",
       "<style scoped>\n",
       "    .dataframe tbody tr th:only-of-type {\n",
       "        vertical-align: middle;\n",
       "    }\n",
       "\n",
       "    .dataframe tbody tr th {\n",
       "        vertical-align: top;\n",
       "    }\n",
       "\n",
       "    .dataframe thead th {\n",
       "        text-align: right;\n",
       "    }\n",
       "</style>\n",
       "<table border=\"1\" class=\"dataframe\">\n",
       "  <thead>\n",
       "    <tr style=\"text-align: right;\">\n",
       "      <th>Cpu_Company</th>\n",
       "      <th>Company</th>\n",
       "      <th>AMD</th>\n",
       "      <th>Intel</th>\n",
       "    </tr>\n",
       "  </thead>\n",
       "  <tbody>\n",
       "    <tr>\n",
       "      <th>0</th>\n",
       "      <td>Acer</td>\n",
       "      <td>10</td>\n",
       "      <td>93</td>\n",
       "    </tr>\n",
       "    <tr>\n",
       "      <th>1</th>\n",
       "      <td>Apple</td>\n",
       "      <td>0</td>\n",
       "      <td>21</td>\n",
       "    </tr>\n",
       "    <tr>\n",
       "      <th>2</th>\n",
       "      <td>Asus</td>\n",
       "      <td>11</td>\n",
       "      <td>147</td>\n",
       "    </tr>\n",
       "    <tr>\n",
       "      <th>3</th>\n",
       "      <td>Chuwi</td>\n",
       "      <td>0</td>\n",
       "      <td>3</td>\n",
       "    </tr>\n",
       "    <tr>\n",
       "      <th>4</th>\n",
       "      <td>Dell</td>\n",
       "      <td>0</td>\n",
       "      <td>297</td>\n",
       "    </tr>\n",
       "    <tr>\n",
       "      <th>5</th>\n",
       "      <td>Fujitsu</td>\n",
       "      <td>0</td>\n",
       "      <td>3</td>\n",
       "    </tr>\n",
       "    <tr>\n",
       "      <th>6</th>\n",
       "      <td>Google</td>\n",
       "      <td>0</td>\n",
       "      <td>3</td>\n",
       "    </tr>\n",
       "    <tr>\n",
       "      <th>7</th>\n",
       "      <td>HP</td>\n",
       "      <td>25</td>\n",
       "      <td>249</td>\n",
       "    </tr>\n",
       "    <tr>\n",
       "      <th>8</th>\n",
       "      <td>Huawei</td>\n",
       "      <td>0</td>\n",
       "      <td>2</td>\n",
       "    </tr>\n",
       "    <tr>\n",
       "      <th>9</th>\n",
       "      <td>LG</td>\n",
       "      <td>0</td>\n",
       "      <td>3</td>\n",
       "    </tr>\n",
       "    <tr>\n",
       "      <th>10</th>\n",
       "      <td>Lenovo</td>\n",
       "      <td>16</td>\n",
       "      <td>281</td>\n",
       "    </tr>\n",
       "    <tr>\n",
       "      <th>11</th>\n",
       "      <td>MSI</td>\n",
       "      <td>0</td>\n",
       "      <td>54</td>\n",
       "    </tr>\n",
       "    <tr>\n",
       "      <th>12</th>\n",
       "      <td>Mediacom</td>\n",
       "      <td>0</td>\n",
       "      <td>7</td>\n",
       "    </tr>\n",
       "    <tr>\n",
       "      <th>13</th>\n",
       "      <td>Microsoft</td>\n",
       "      <td>0</td>\n",
       "      <td>6</td>\n",
       "    </tr>\n",
       "    <tr>\n",
       "      <th>14</th>\n",
       "      <td>Razer</td>\n",
       "      <td>0</td>\n",
       "      <td>7</td>\n",
       "    </tr>\n",
       "    <tr>\n",
       "      <th>15</th>\n",
       "      <td>Samsung</td>\n",
       "      <td>0</td>\n",
       "      <td>8</td>\n",
       "    </tr>\n",
       "    <tr>\n",
       "      <th>16</th>\n",
       "      <td>Toshiba</td>\n",
       "      <td>0</td>\n",
       "      <td>48</td>\n",
       "    </tr>\n",
       "    <tr>\n",
       "      <th>17</th>\n",
       "      <td>Vero</td>\n",
       "      <td>0</td>\n",
       "      <td>4</td>\n",
       "    </tr>\n",
       "    <tr>\n",
       "      <th>18</th>\n",
       "      <td>Xiaomi</td>\n",
       "      <td>0</td>\n",
       "      <td>4</td>\n",
       "    </tr>\n",
       "  </tbody>\n",
       "</table>\n",
       "</div>"
      ],
      "text/plain": [
       "Cpu_Company    Company  AMD  Intel\n",
       "0                 Acer   10     93\n",
       "1                Apple    0     21\n",
       "2                 Asus   11    147\n",
       "3                Chuwi    0      3\n",
       "4                 Dell    0    297\n",
       "5              Fujitsu    0      3\n",
       "6               Google    0      3\n",
       "7                   HP   25    249\n",
       "8               Huawei    0      2\n",
       "9                   LG    0      3\n",
       "10              Lenovo   16    281\n",
       "11                 MSI    0     54\n",
       "12            Mediacom    0      7\n",
       "13           Microsoft    0      6\n",
       "14               Razer    0      7\n",
       "15             Samsung    0      8\n",
       "16             Toshiba    0     48\n",
       "17                Vero    0      4\n",
       "18              Xiaomi    0      4"
      ]
     },
     "execution_count": 12,
     "metadata": {},
     "output_type": "execute_result"
    }
   ],
   "source": [
    "x = pd.crosstab(index=df['Company'], columns=df['Cpu_Company'])\n",
    "x = x.drop(columns=['Samsung']).reset_index()\n",
    "x\n"
   ]
  },
  {
   "cell_type": "code",
   "execution_count": 13,
   "metadata": {},
   "outputs": [
    {
     "data": {
      "image/png": "[encoded data removed]",
      "text/plain": [
       "<Figure size 640x480 with 1 Axes>"
      ]
     },
     "metadata": {},
     "output_type": "display_data"
    }
   ],
   "source": [
    "import numpy as np\n",
    "\n",
    "n_ticks = np.arange(len(x['AMD']))\n",
    "offset = 0.2\n",
    "w = 0.4\n",
    "plt.bar(n_ticks - offset, x['AMD'], width=w)\n",
    "plt.bar(n_ticks + offset, x['Intel'], width=w)\n",
    "\n",
    "plt.title('Ноутбуки')\n",
    "plt.xlabel('Компания производителя')\n",
    "plt.ylabel('Количество ноутбуков')\n",
    "plt.legend(['AMD', 'Intel'])\n",
    "plt.xticks(n_ticks, x['Company'], rotation=90);\n"
   ]
  },
  {
   "cell_type": "markdown",
   "metadata": {},
   "source": []
  },
  {
   "cell_type": "code",
   "execution_count": 14,
   "metadata": {},
   "outputs": [
    {
     "data": {
      "text/html": [
       "<div>\n",
       "<style scoped>\n",
       "    .dataframe tbody tr th:only-of-type {\n",
       "        vertical-align: middle;\n",
       "    }\n",
       "\n",
       "    .dataframe tbody tr th {\n",
       "        vertical-align: top;\n",
       "    }\n",
       "\n",
       "    .dataframe thead th {\n",
       "        text-align: right;\n",
       "    }\n",
       "</style>\n",
       "<table border=\"1\" class=\"dataframe\">\n",
       "  <thead>\n",
       "    <tr style=\"text-align: right;\">\n",
       "      <th>Cpu_Company</th>\n",
       "      <th>Company</th>\n",
       "      <th>AMD</th>\n",
       "      <th>Intel</th>\n",
       "    </tr>\n",
       "  </thead>\n",
       "  <tbody>\n",
       "    <tr>\n",
       "      <th>0</th>\n",
       "      <td>Acer</td>\n",
       "      <td>0.097087</td>\n",
       "      <td>0.902913</td>\n",
       "    </tr>\n",
       "    <tr>\n",
       "      <th>1</th>\n",
       "      <td>Apple</td>\n",
       "      <td>0.000000</td>\n",
       "      <td>1.000000</td>\n",
       "    </tr>\n",
       "    <tr>\n",
       "      <th>2</th>\n",
       "      <td>Asus</td>\n",
       "      <td>0.069620</td>\n",
       "      <td>0.930380</td>\n",
       "    </tr>\n",
       "    <tr>\n",
       "      <th>3</th>\n",
       "      <td>Chuwi</td>\n",
       "      <td>0.000000</td>\n",
       "      <td>1.000000</td>\n",
       "    </tr>\n",
       "    <tr>\n",
       "      <th>4</th>\n",
       "      <td>Dell</td>\n",
       "      <td>0.000000</td>\n",
       "      <td>1.000000</td>\n",
       "    </tr>\n",
       "    <tr>\n",
       "      <th>5</th>\n",
       "      <td>Fujitsu</td>\n",
       "      <td>0.000000</td>\n",
       "      <td>1.000000</td>\n",
       "    </tr>\n",
       "    <tr>\n",
       "      <th>6</th>\n",
       "      <td>Google</td>\n",
       "      <td>0.000000</td>\n",
       "      <td>1.000000</td>\n",
       "    </tr>\n",
       "    <tr>\n",
       "      <th>7</th>\n",
       "      <td>HP</td>\n",
       "      <td>0.091241</td>\n",
       "      <td>0.908759</td>\n",
       "    </tr>\n",
       "    <tr>\n",
       "      <th>8</th>\n",
       "      <td>Huawei</td>\n",
       "      <td>0.000000</td>\n",
       "      <td>1.000000</td>\n",
       "    </tr>\n",
       "    <tr>\n",
       "      <th>9</th>\n",
       "      <td>LG</td>\n",
       "      <td>0.000000</td>\n",
       "      <td>1.000000</td>\n",
       "    </tr>\n",
       "    <tr>\n",
       "      <th>10</th>\n",
       "      <td>Lenovo</td>\n",
       "      <td>0.053872</td>\n",
       "      <td>0.946128</td>\n",
       "    </tr>\n",
       "    <tr>\n",
       "      <th>11</th>\n",
       "      <td>MSI</td>\n",
       "      <td>0.000000</td>\n",
       "      <td>1.000000</td>\n",
       "    </tr>\n",
       "    <tr>\n",
       "      <th>12</th>\n",
       "      <td>Mediacom</td>\n",
       "      <td>0.000000</td>\n",
       "      <td>1.000000</td>\n",
       "    </tr>\n",
       "    <tr>\n",
       "      <th>13</th>\n",
       "      <td>Microsoft</td>\n",
       "      <td>0.000000</td>\n",
       "      <td>1.000000</td>\n",
       "    </tr>\n",
       "    <tr>\n",
       "      <th>14</th>\n",
       "      <td>Razer</td>\n",
       "      <td>0.000000</td>\n",
       "      <td>1.000000</td>\n",
       "    </tr>\n",
       "    <tr>\n",
       "      <th>15</th>\n",
       "      <td>Samsung</td>\n",
       "      <td>0.000000</td>\n",
       "      <td>0.888889</td>\n",
       "    </tr>\n",
       "    <tr>\n",
       "      <th>16</th>\n",
       "      <td>Toshiba</td>\n",
       "      <td>0.000000</td>\n",
       "      <td>1.000000</td>\n",
       "    </tr>\n",
       "    <tr>\n",
       "      <th>17</th>\n",
       "      <td>Vero</td>\n",
       "      <td>0.000000</td>\n",
       "      <td>1.000000</td>\n",
       "    </tr>\n",
       "    <tr>\n",
       "      <th>18</th>\n",
       "      <td>Xiaomi</td>\n",
       "      <td>0.000000</td>\n",
       "      <td>1.000000</td>\n",
       "    </tr>\n",
       "  </tbody>\n",
       "</table>\n",
       "</div>"
      ],
      "text/plain": [
       "Cpu_Company    Company       AMD     Intel\n",
       "0                 Acer  0.097087  0.902913\n",
       "1                Apple  0.000000  1.000000\n",
       "2                 Asus  0.069620  0.930380\n",
       "3                Chuwi  0.000000  1.000000\n",
       "4                 Dell  0.000000  1.000000\n",
       "5              Fujitsu  0.000000  1.000000\n",
       "6               Google  0.000000  1.000000\n",
       "7                   HP  0.091241  0.908759\n",
       "8               Huawei  0.000000  1.000000\n",
       "9                   LG  0.000000  1.000000\n",
       "10              Lenovo  0.053872  0.946128\n",
       "11                 MSI  0.000000  1.000000\n",
       "12            Mediacom  0.000000  1.000000\n",
       "13           Microsoft  0.000000  1.000000\n",
       "14               Razer  0.000000  1.000000\n",
       "15             Samsung  0.000000  0.888889\n",
       "16             Toshiba  0.000000  1.000000\n",
       "17                Vero  0.000000  1.000000\n",
       "18              Xiaomi  0.000000  1.000000"
      ]
     },
     "execution_count": 14,
     "metadata": {},
     "output_type": "execute_result"
    }
   ],
   "source": [
    "x = pd.crosstab(index=df['Company'], columns=df['Cpu_Company'], normalize='index')\n",
    "x = x.drop(columns=['Samsung']).reset_index()\n",
    "x\n"
   ]
  },
  {
   "cell_type": "code",
   "execution_count": 15,
   "metadata": {},
   "outputs": [
    {
     "data": {
      "image/png": "[encoded data removed]",
      "text/plain": [
       "<Figure size 640x480 with 1 Axes>"
      ]
     },
     "metadata": {},
     "output_type": "display_data"
    }
   ],
   "source": [
    "plt.bar(x['Company'], x['AMD'])\n",
    "plt.bar(x['Company'], x['Intel'], bottom=x['AMD'])\n",
    "plt.title('Ноутбуки')\n",
    "plt.xlabel('Компания производителя')\n",
    "plt.ylabel('Доля ноутбуков')\n",
    "plt.legend(['AMD', 'Intel'])\n",
    "plt.xticks(rotation=90);\n"
   ]
  },
  {
   "attachments": {},
   "cell_type": "markdown",
   "metadata": {},
   "source": [
    "4.1 Изучите взаимосвязь стоимости ноутбука и компании производителя процессора\n",
    "Постройте график\n",
    "Назовите график\n",
    "Сделайте именование оси x и оси y\n",
    "Сделайте выводы\n"
   ]
  },
  {
   "cell_type": "code",
   "execution_count": 16,
   "metadata": {},
   "outputs": [
    {
     "data": {
      "image/png": "[encoded data removed]",
      "text/plain": [
       "<Figure size 640x480 with 1 Axes>"
      ]
     },
     "metadata": {},
     "output_type": "display_data"
    }
   ],
   "source": [
    "import seaborn as sns\n",
    "\n",
    "sns.boxplot(x=df['Price_euros'], y=df['Cpu_Company'], showfliers=False)\n",
    "\n",
    "plt.xlabel('Price_euro')\n",
    "plt.ylabel('Cpu_Company')\n",
    "plt.title('Распределение стоимости от CPU');\n"
   ]
  },
  {
   "cell_type": "markdown",
   "metadata": {},
   "source": []
  },
  {
   "cell_type": "code",
   "execution_count": null,
   "metadata": {},
   "outputs": [],
   "source": [
    "corr_matrix = df.corr()\n",
    "corr_matrix = np.round(corr_matrix, 1)\n",
    "corr_matrix[np.abs(corr_matrix) < 0.3] = 0\n",
    "corr_matrix\n"
   ]
  },
  {
   "cell_type": "code",
   "execution_count": null,
   "metadata": {},
   "outputs": [],
   "source": [
    "sns.heatmap(corr_matrix, annot=True, cmap='coolwarm', linewidths=0.5);\n"
   ]
  },
  {
   "cell_type": "markdown",
   "metadata": {},
   "source": []
  },
  {
   "cell_type": "code",
   "execution_count": 20,
   "metadata": {},
   "outputs": [
    {
     "data": {
      "text/html": [
       "<div>\n",
       "<style scoped>\n",
       "    .dataframe tbody tr th:only-of-type {\n",
       "        vertical-align: middle;\n",
       "    }\n",
       "\n",
       "    .dataframe tbody tr th {\n",
       "        vertical-align: top;\n",
       "    }\n",
       "\n",
       "    .dataframe thead th {\n",
       "        text-align: right;\n",
       "    }\n",
       "</style>\n",
       "<table border=\"1\" class=\"dataframe\">\n",
       "  <thead>\n",
       "    <tr style=\"text-align: right;\">\n",
       "      <th></th>\n",
       "      <th>laptop_ID</th>\n",
       "      <th>Company</th>\n",
       "      <th>Product</th>\n",
       "      <th>TypeName</th>\n",
       "      <th>Inches</th>\n",
       "      <th>ScreenResolution</th>\n",
       "      <th>Cpu</th>\n",
       "      <th>Ram</th>\n",
       "      <th>Memory</th>\n",
       "      <th>Gpu</th>\n",
       "      <th>OpSys</th>\n",
       "      <th>Weight</th>\n",
       "      <th>Price_euros</th>\n",
       "    </tr>\n",
       "  </thead>\n",
       "  <tbody>\n",
       "    <tr>\n",
       "      <th>0</th>\n",
       "      <td>1</td>\n",
       "      <td>Apple</td>\n",
       "      <td>MacBook Pro</td>\n",
       "      <td>Ultrabook</td>\n",
       "      <td>13.3</td>\n",
       "      <td>IPS Panel Retina Display 2560x1600</td>\n",
       "      <td>Intel Core i5 2.3GHz</td>\n",
       "      <td>8GB</td>\n",
       "      <td>128GB SSD</td>\n",
       "      <td>Intel Iris Plus Graphics 640</td>\n",
       "      <td>macOS</td>\n",
       "      <td>1.37kg</td>\n",
       "      <td>1339.69</td>\n",
       "    </tr>\n",
       "    <tr>\n",
       "      <th>1</th>\n",
       "      <td>2</td>\n",
       "      <td>Apple</td>\n",
       "      <td>Macbook Air</td>\n",
       "      <td>Ultrabook</td>\n",
       "      <td>13.3</td>\n",
       "      <td>1440x900</td>\n",
       "      <td>Intel Core i5 1.8GHz</td>\n",
       "      <td>8GB</td>\n",
       "      <td>128GB Flash Storage</td>\n",
       "      <td>Intel HD Graphics 6000</td>\n",
       "      <td>macOS</td>\n",
       "      <td>1.34kg</td>\n",
       "      <td>898.94</td>\n",
       "    </tr>\n",
       "    <tr>\n",
       "      <th>2</th>\n",
       "      <td>3</td>\n",
       "      <td>HP</td>\n",
       "      <td>250 G6</td>\n",
       "      <td>Notebook</td>\n",
       "      <td>15.6</td>\n",
       "      <td>Full HD 1920x1080</td>\n",
       "      <td>Intel Core i5 7200U 2.5GHz</td>\n",
       "      <td>8GB</td>\n",
       "      <td>256GB SSD</td>\n",
       "      <td>Intel HD Graphics 620</td>\n",
       "      <td>No OS</td>\n",
       "      <td>1.86kg</td>\n",
       "      <td>575.00</td>\n",
       "    </tr>\n",
       "    <tr>\n",
       "      <th>3</th>\n",
       "      <td>4</td>\n",
       "      <td>Apple</td>\n",
       "      <td>MacBook Pro</td>\n",
       "      <td>Ultrabook</td>\n",
       "      <td>15.4</td>\n",
       "      <td>IPS Panel Retina Display 2880x1800</td>\n",
       "      <td>Intel Core i7 2.7GHz</td>\n",
       "      <td>16GB</td>\n",
       "      <td>512GB SSD</td>\n",
       "      <td>AMD Radeon Pro 455</td>\n",
       "      <td>macOS</td>\n",
       "      <td>1.83kg</td>\n",
       "      <td>2537.45</td>\n",
       "    </tr>\n",
       "    <tr>\n",
       "      <th>4</th>\n",
       "      <td>5</td>\n",
       "      <td>Apple</td>\n",
       "      <td>MacBook Pro</td>\n",
       "      <td>Ultrabook</td>\n",
       "      <td>13.3</td>\n",
       "      <td>IPS Panel Retina Display 2560x1600</td>\n",
       "      <td>Intel Core i5 3.1GHz</td>\n",
       "      <td>8GB</td>\n",
       "      <td>256GB SSD</td>\n",
       "      <td>Intel Iris Plus Graphics 650</td>\n",
       "      <td>macOS</td>\n",
       "      <td>1.37kg</td>\n",
       "      <td>1803.60</td>\n",
       "    </tr>\n",
       "  </tbody>\n",
       "</table>\n",
       "</div>"
      ],
      "text/plain": [
       "   laptop_ID Company      Product   TypeName  Inches   \n",
       "0          1   Apple  MacBook Pro  Ultrabook    13.3  \\\n",
       "1          2   Apple  Macbook Air  Ultrabook    13.3   \n",
       "2          3      HP       250 G6   Notebook    15.6   \n",
       "3          4   Apple  MacBook Pro  Ultrabook    15.4   \n",
       "4          5   Apple  MacBook Pro  Ultrabook    13.3   \n",
       "\n",
       "                     ScreenResolution                         Cpu   Ram   \n",
       "0  IPS Panel Retina Display 2560x1600        Intel Core i5 2.3GHz   8GB  \\\n",
       "1                            1440x900        Intel Core i5 1.8GHz   8GB   \n",
       "2                   Full HD 1920x1080  Intel Core i5 7200U 2.5GHz   8GB   \n",
       "3  IPS Panel Retina Display 2880x1800        Intel Core i7 2.7GHz  16GB   \n",
       "4  IPS Panel Retina Display 2560x1600        Intel Core i5 3.1GHz   8GB   \n",
       "\n",
       "                Memory                           Gpu  OpSys  Weight   \n",
       "0            128GB SSD  Intel Iris Plus Graphics 640  macOS  1.37kg  \\\n",
       "1  128GB Flash Storage        Intel HD Graphics 6000  macOS  1.34kg   \n",
       "2            256GB SSD         Intel HD Graphics 620  No OS  1.86kg   \n",
       "3            512GB SSD            AMD Radeon Pro 455  macOS  1.83kg   \n",
       "4            256GB SSD  Intel Iris Plus Graphics 650  macOS  1.37kg   \n",
       "\n",
       "   Price_euros  \n",
       "0      1339.69  \n",
       "1       898.94  \n",
       "2       575.00  \n",
       "3      2537.45  \n",
       "4      1803.60  "
      ]
     },
     "execution_count": 20,
     "metadata": {},
     "output_type": "execute_result"
    }
   ],
   "source": [
    "df = pd.read_csv('./laptop_price.csv',encoding='latin1')\n",
    "df.head()"
   ]
  },
  {
   "cell_type": "code",
   "execution_count": 22,
   "metadata": {},
   "outputs": [
    {
     "ename": "AttributeError",
     "evalue": "'Series' object has no attribute 'lat'",
     "output_type": "error",
     "traceback": [
      "\u001b[1;31m---------------------------------------------------------------------------\u001b[0m",
      "\u001b[1;31mAttributeError\u001b[0m                            Traceback (most recent call last)",
      "Cell \u001b[1;32mIn[22], line 8\u001b[0m\n\u001b[0;32m      5\u001b[0m \u001b[39mdef\u001b[39;00m \u001b[39mplotDot\u001b[39m(point):\n\u001b[0;32m      6\u001b[0m     folium\u001b[39m.\u001b[39mCircleMarker(location\u001b[39m=\u001b[39m[point\u001b[39m.\u001b[39mlat, point\u001b[39m.\u001b[39mlong], radius\u001b[39m=\u001b[39m\u001b[39m2\u001b[39m, popup\u001b[39m=\u001b[39mpoint\u001b[39m.\u001b[39mprice)\u001b[39m.\u001b[39madd_to(this_map)\n\u001b[1;32m----> 8\u001b[0m df\u001b[39m.\u001b[39;49mapply(plotDot, axis\u001b[39m=\u001b[39;49m\u001b[39m1\u001b[39;49m)\n\u001b[0;32m      9\u001b[0m this_map\u001b[39m.\u001b[39mfit_bounds(this_map\u001b[39m.\u001b[39mget_bounds())\n\u001b[0;32m     11\u001b[0m this_map\n",
      "File \u001b[1;32mc:\\Users\\Admin\\AppData\\Local\\Programs\\Python\\Python311\\Lib\\site-packages\\pandas\\core\\frame.py:9428\u001b[0m, in \u001b[0;36mDataFrame.apply\u001b[1;34m(self, func, axis, raw, result_type, args, **kwargs)\u001b[0m\n\u001b[0;32m   9417\u001b[0m \u001b[39mfrom\u001b[39;00m \u001b[39mpandas\u001b[39;00m\u001b[39m.\u001b[39;00m\u001b[39mcore\u001b[39;00m\u001b[39m.\u001b[39;00m\u001b[39mapply\u001b[39;00m \u001b[39mimport\u001b[39;00m frame_apply\n\u001b[0;32m   9419\u001b[0m op \u001b[39m=\u001b[39m frame_apply(\n\u001b[0;32m   9420\u001b[0m     \u001b[39mself\u001b[39m,\n\u001b[0;32m   9421\u001b[0m     func\u001b[39m=\u001b[39mfunc,\n\u001b[1;32m   (...)\u001b[0m\n\u001b[0;32m   9426\u001b[0m     kwargs\u001b[39m=\u001b[39mkwargs,\n\u001b[0;32m   9427\u001b[0m )\n\u001b[1;32m-> 9428\u001b[0m \u001b[39mreturn\u001b[39;00m op\u001b[39m.\u001b[39;49mapply()\u001b[39m.\u001b[39m__finalize__(\u001b[39mself\u001b[39m, method\u001b[39m=\u001b[39m\u001b[39m\"\u001b[39m\u001b[39mapply\u001b[39m\u001b[39m\"\u001b[39m)\n",
      "File \u001b[1;32mc:\\Users\\Admin\\AppData\\Local\\Programs\\Python\\Python311\\Lib\\site-packages\\pandas\\core\\apply.py:678\u001b[0m, in \u001b[0;36mFrameApply.apply\u001b[1;34m(self)\u001b[0m\n\u001b[0;32m    675\u001b[0m \u001b[39melif\u001b[39;00m \u001b[39mself\u001b[39m\u001b[39m.\u001b[39mraw:\n\u001b[0;32m    676\u001b[0m     \u001b[39mreturn\u001b[39;00m \u001b[39mself\u001b[39m\u001b[39m.\u001b[39mapply_raw()\n\u001b[1;32m--> 678\u001b[0m \u001b[39mreturn\u001b[39;00m \u001b[39mself\u001b[39;49m\u001b[39m.\u001b[39;49mapply_standard()\n",
      "File \u001b[1;32mc:\\Users\\Admin\\AppData\\Local\\Programs\\Python\\Python311\\Lib\\site-packages\\pandas\\core\\apply.py:798\u001b[0m, in \u001b[0;36mFrameApply.apply_standard\u001b[1;34m(self)\u001b[0m\n\u001b[0;32m    797\u001b[0m \u001b[39mdef\u001b[39;00m \u001b[39mapply_standard\u001b[39m(\u001b[39mself\u001b[39m):\n\u001b[1;32m--> 798\u001b[0m     results, res_index \u001b[39m=\u001b[39m \u001b[39mself\u001b[39;49m\u001b[39m.\u001b[39;49mapply_series_generator()\n\u001b[0;32m    800\u001b[0m     \u001b[39m# wrap results\u001b[39;00m\n\u001b[0;32m    801\u001b[0m     \u001b[39mreturn\u001b[39;00m \u001b[39mself\u001b[39m\u001b[39m.\u001b[39mwrap_results(results, res_index)\n",
      "File \u001b[1;32mc:\\Users\\Admin\\AppData\\Local\\Programs\\Python\\Python311\\Lib\\site-packages\\pandas\\core\\apply.py:814\u001b[0m, in \u001b[0;36mFrameApply.apply_series_generator\u001b[1;34m(self)\u001b[0m\n\u001b[0;32m    811\u001b[0m \u001b[39mwith\u001b[39;00m option_context(\u001b[39m\"\u001b[39m\u001b[39mmode.chained_assignment\u001b[39m\u001b[39m\"\u001b[39m, \u001b[39mNone\u001b[39;00m):\n\u001b[0;32m    812\u001b[0m     \u001b[39mfor\u001b[39;00m i, v \u001b[39min\u001b[39;00m \u001b[39menumerate\u001b[39m(series_gen):\n\u001b[0;32m    813\u001b[0m         \u001b[39m# ignore SettingWithCopy here in case the user mutates\u001b[39;00m\n\u001b[1;32m--> 814\u001b[0m         results[i] \u001b[39m=\u001b[39m \u001b[39mself\u001b[39;49m\u001b[39m.\u001b[39;49mf(v)\n\u001b[0;32m    815\u001b[0m         \u001b[39mif\u001b[39;00m \u001b[39misinstance\u001b[39m(results[i], ABCSeries):\n\u001b[0;32m    816\u001b[0m             \u001b[39m# If we have a view on v, we need to make a copy because\u001b[39;00m\n\u001b[0;32m    817\u001b[0m             \u001b[39m#  series_generator will swap out the underlying data\u001b[39;00m\n\u001b[0;32m    818\u001b[0m             results[i] \u001b[39m=\u001b[39m results[i]\u001b[39m.\u001b[39mcopy(deep\u001b[39m=\u001b[39m\u001b[39mFalse\u001b[39;00m)\n",
      "Cell \u001b[1;32mIn[22], line 6\u001b[0m, in \u001b[0;36mplotDot\u001b[1;34m(point)\u001b[0m\n\u001b[0;32m      5\u001b[0m \u001b[39mdef\u001b[39;00m \u001b[39mplotDot\u001b[39m(point):\n\u001b[1;32m----> 6\u001b[0m     folium\u001b[39m.\u001b[39mCircleMarker(location\u001b[39m=\u001b[39m[point\u001b[39m.\u001b[39;49mlat, point\u001b[39m.\u001b[39mlong], radius\u001b[39m=\u001b[39m\u001b[39m2\u001b[39m, popup\u001b[39m=\u001b[39mpoint\u001b[39m.\u001b[39mprice)\u001b[39m.\u001b[39madd_to(this_map)\n",
      "File \u001b[1;32mc:\\Users\\Admin\\AppData\\Local\\Programs\\Python\\Python311\\Lib\\site-packages\\pandas\\core\\generic.py:5989\u001b[0m, in \u001b[0;36mNDFrame.__getattr__\u001b[1;34m(self, name)\u001b[0m\n\u001b[0;32m   5982\u001b[0m \u001b[39mif\u001b[39;00m (\n\u001b[0;32m   5983\u001b[0m     name \u001b[39mnot\u001b[39;00m \u001b[39min\u001b[39;00m \u001b[39mself\u001b[39m\u001b[39m.\u001b[39m_internal_names_set\n\u001b[0;32m   5984\u001b[0m     \u001b[39mand\u001b[39;00m name \u001b[39mnot\u001b[39;00m \u001b[39min\u001b[39;00m \u001b[39mself\u001b[39m\u001b[39m.\u001b[39m_metadata\n\u001b[0;32m   5985\u001b[0m     \u001b[39mand\u001b[39;00m name \u001b[39mnot\u001b[39;00m \u001b[39min\u001b[39;00m \u001b[39mself\u001b[39m\u001b[39m.\u001b[39m_accessors\n\u001b[0;32m   5986\u001b[0m     \u001b[39mand\u001b[39;00m \u001b[39mself\u001b[39m\u001b[39m.\u001b[39m_info_axis\u001b[39m.\u001b[39m_can_hold_identifiers_and_holds_name(name)\n\u001b[0;32m   5987\u001b[0m ):\n\u001b[0;32m   5988\u001b[0m     \u001b[39mreturn\u001b[39;00m \u001b[39mself\u001b[39m[name]\n\u001b[1;32m-> 5989\u001b[0m \u001b[39mreturn\u001b[39;00m \u001b[39mobject\u001b[39;49m\u001b[39m.\u001b[39;49m\u001b[39m__getattribute__\u001b[39;49m(\u001b[39mself\u001b[39;49m, name)\n",
      "\u001b[1;31mAttributeError\u001b[0m: 'Series' object has no attribute 'lat'"
     ]
    }
   ],
   "source": [
    "import folium\n",
    "\n",
    "this_map = folium.Map(prefer_canvas=True)\n",
    "\n",
    "def plotDot(point):\n",
    "    folium.CircleMarker(location=[point.lat, point.long], radius=2, popup=point.price).add_to(this_map)\n",
    "    \n",
    "df.apply(plotDot, axis=1)\n",
    "this_map.fit_bounds(this_map.get_bounds())\n",
    "\n",
    "this_map\n"
   ]
  }
 ],
 "metadata": {
  "kernelspec": {
   "display_name": "Python 3",
   "language": "python",
   "name": "python3"
  },
  "language_info": {
   "codemirror_mode": {
    "name": "ipython",
    "version": 3
   },
   "file_extension": ".py",
   "mimetype": "text/x-python",
   "name": "python",
   "nbconvert_exporter": "python",
   "pygments_lexer": "ipython3",
   "version": "3.11.1"
  },
  "orig_nbformat": 4
 },
 "nbformat": 4,
 "nbformat_minor": 2
}
