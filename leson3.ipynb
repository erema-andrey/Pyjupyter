{
 "cells": [
  {
   "cell_type": "code",
   "execution_count": 1,
   "metadata": {},
   "outputs": [],
   "source": [
    "import pandas as pd"
   ]
  },
  {
   "attachments": {},
   "cell_type": "markdown",
   "metadata": {},
   "source": [
    "##### Будем работать с датасетом по оттоку клиентов из банка https://www.kaggle.com/datasets/shubh0799/churn-modelling, но датасет из себя будет представлять две таблицы:\n",
    "\n",
    "1. Личные данные клиента\n",
    "\n",
    "  A. CustomerId - Уникальный идентификатор клиента\n",
    "\n",
    "  B. Surname - Фамилия клиента\n",
    "\n",
    "  C. Geography - Из какой страны клиент\n",
    "\n",
    "  D. Gender - Пол клиента\n",
    "\n",
    "  E. Age - Возраст клиента\n",
    "\n",
    "  F. EstimatedSalary - Предположительная зарплата клиента\n",
    "\n",
    "2. Данные по поведению клиента в банке\n",
    "\n",
    "  A. CustomerId - Уникальный идентификатор клиента\n",
    "\n",
    "  B. CustomerId - Уникальный идентификатор клиента\n",
    "\n",
    "  C. Tenure - Сколько лет человек является клиентом банка\n",
    "\n",
    "  D. Balance - Баланс счета\n",
    "\n",
    "  E. NumOfProducts - Количество открытых продуктов\n",
    "\n",
    "  F. HasCrCard - Есть ли у клиента кредитная карта\n",
    "\n",
    "  G. IsActiveMember - Является ли клиент активные участником\n",
    "  \n",
    "  H. Exited - Уйдет ли человек в отток"
   ]
  },
  {
   "cell_type": "code",
   "execution_count": null,
   "metadata": {},
   "outputs": [],
   "source": [
    "users = pd.read_csv('users.csv', sep=';')\n",
    "users.head()"
   ]
  }
 ],
 "metadata": {
  "kernelspec": {
   "display_name": "Python 3",
   "language": "python",
   "name": "python3"
  },
  "language_info": {
   "codemirror_mode": {
    "name": "ipython",
    "version": 3
   },
   "file_extension": ".py",
   "mimetype": "text/x-python",
   "name": "python",
   "nbconvert_exporter": "python",
   "pygments_lexer": "ipython3",
   "version": "3.11.1"
  },
  "orig_nbformat": 4
 },
 "nbformat": 4,
 "nbformat_minor": 2
}
