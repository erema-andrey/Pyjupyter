client_data = {
    'name': 'John',
    'surname': 'Doe',
    'age': 32
}

client_data